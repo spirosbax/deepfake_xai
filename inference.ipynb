{
 "cells": [
  {
   "cell_type": "code",
   "execution_count": 12,
   "metadata": {},
   "outputs": [],
   "source": [
    "import torch\n",
    "from torchvision.transforms import v2\n",
    "\n",
    "import sys\n",
    "sys.path.append('src')\n",
    "from src.models.frame import FrameModel\n",
    "\n",
    "# ff_attribution -> 224\n",
    "# swinv2_faceswap -> 256\n",
    "rs_size = 256\n",
    "interpolation = 3\n",
    "inference_transforms = v2.Compose([\n",
    "    v2.ToImage(),\n",
    "    v2.Resize(rs_size, interpolation=interpolation, antialias=False),\n",
    "    v2.ToDtype(torch.float32, scale=True),\n",
    "    v2.Normalize(mean=[0.485, 0.456, 0.406], std=[0.229, 0.224, 0.225])\n",
    "])"
   ]
  },
  {
   "cell_type": "code",
   "execution_count": 13,
   "metadata": {},
   "outputs": [],
   "source": [
    "# ff_attribution or swinv2_faceswap\n",
    "model = FrameModel.load_from_checkpoint(\"./checkpoints/ff_attribution.ckpt\").eval()"
   ]
  },
  {
   "cell_type": "code",
   "execution_count": 14,
   "metadata": {},
   "outputs": [
    {
     "name": "stdout",
     "output_type": "stream",
     "text": [
      "tensor([[0.6673, 0.2875, 0.0223, 0.0170, 0.0058]], device='cuda:1')\n",
      "torch.Size([1, 5])\n"
     ]
    }
   ],
   "source": [
    "# (B, C, H, W)\n",
    "test_image = torch.randn(1, 3, 224, 224).to(model.device)\n",
    "test_image = inference_transforms(test_image)\n",
    "\n",
    "with torch.no_grad():\n",
    "    output = model(test_image)\n",
    "    print(output)\n",
    "    print(output.shape)"
   ]
  },
  {
   "cell_type": "code",
   "execution_count": null,
   "metadata": {},
   "outputs": [],
   "source": []
  }
 ],
 "metadata": {
  "kernelspec": {
   "display_name": "deepfake_trainer",
   "language": "python",
   "name": "python3"
  },
  "language_info": {
   "codemirror_mode": {
    "name": "ipython",
    "version": 3
   },
   "file_extension": ".py",
   "mimetype": "text/x-python",
   "name": "python",
   "nbconvert_exporter": "python",
   "pygments_lexer": "ipython3",
   "version": "3.10.11"
  }
 },
 "nbformat": 4,
 "nbformat_minor": 2
}
