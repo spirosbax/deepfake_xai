{
 "cells": [
  {
   "cell_type": "code",
   "execution_count": 5,
   "metadata": {},
   "outputs": [],
   "source": [
    "import torch\n",
    "from torchvision.transforms import v2\n",
    "import sys\n",
    "sys.path.append('src')"
   ]
  },
  {
   "cell_type": "code",
   "execution_count": 6,
   "metadata": {},
   "outputs": [
    {
     "name": "stderr",
     "output_type": "stream",
     "text": [
      "/home/spirosbax/anaconda3/envs/dfxai/lib/python3.10/site-packages/tqdm/auto.py:21: TqdmWarning: IProgress not found. Please update jupyter and ipywidgets. See https://ipywidgets.readthedocs.io/en/stable/user_install.html\n",
      "  from .autonotebook import tqdm as notebook_tqdm\n"
     ]
    }
   ],
   "source": [
    "from src.models.frame import FrameModel\n",
    "\n",
    "# ff_attribution -> 224\n",
    "# swinv2_faceswap -> 256\n",
    "rs_size = 224\n",
    "interpolation = 3\n",
    "inference_transforms = v2.Compose([\n",
    "    v2.ToImage(),\n",
    "    v2.Resize(rs_size, interpolation=interpolation, antialias=False),\n",
    "    v2.ToDtype(torch.float32, scale=True),\n",
    "    v2.Normalize(mean=[0.485, 0.456, 0.406], std=[0.229, 0.224, 0.225])\n",
    "])\n",
    "target_transforms = lambda x: torch.tensor(x, dtype=torch.float32)"
   ]
  },
  {
   "cell_type": "code",
   "execution_count": 9,
   "metadata": {},
   "outputs": [
    {
     "name": "stderr",
     "output_type": "stream",
     "text": [
      "model.safetensors: 100%|██████████| 28.8M/28.8M [00:01<00:00, 15.9MB/s]\n"
     ]
    }
   ],
   "source": [
    "# ff_attribution or swinv2_faceswap\n",
    "model = FrameModel.load_from_checkpoint(\"./checkpoints/ff_attribution.ckpt\").eval()"
   ]
  },
  {
   "cell_type": "code",
   "execution_count": 10,
   "metadata": {},
   "outputs": [
    {
     "name": "stdout",
     "output_type": "stream",
     "text": [
      "tensor([[0.0773, 0.5556, 0.1229, 0.0376, 0.2067]], device='cuda:1')\n",
      "torch.Size([1, 5])\n"
     ]
    }
   ],
   "source": [
    "# inference on dummy data\n",
    "# (B, C, H, W)\n",
    "test_image = torch.randn(1, 3, 224, 224).to(model.device)\n",
    "test_image = inference_transforms(test_image)\n",
    "\n",
    "with torch.no_grad():\n",
    "    output = model(test_image)\n",
    "    print(output)\n",
    "    print(output.shape)"
   ]
  },
  {
   "cell_type": "code",
   "execution_count": 16,
   "metadata": {},
   "outputs": [
    {
     "name": "stdout",
     "output_type": "stream",
     "text": [
      "tensor([[1.4107e-06, 9.9975e-01, 2.5263e-04, 2.1636e-07, 8.3986e-08]],\n",
      "       device='cuda:1')\n",
      "torch.Size([1, 5])\n",
      "tensor(1.)\n"
     ]
    }
   ],
   "source": [
    "# inference on a dataset\n",
    "import numpy as np\n",
    "from src.data.datasets import DeepfakeDataset\n",
    "\n",
    "ds = DeepfakeDataset(\n",
    "    \"./faceforensics_frames.csv\",\n",
    "    \"./ff.lmdb\",\n",
    "    transforms=inference_transforms,\n",
    "    target_transforms=target_transforms,\n",
    "    task=\"multiclass\"\n",
    ")\n",
    "\n",
    "idx = np.random.randint(0, len(ds))\n",
    "with torch.no_grad():\n",
    "    frame, label = ds[idx]\n",
    "    frame = frame.to(model.device)\n",
    "    output = model(frame.unsqueeze(0))\n",
    "    print(output)\n",
    "    print(output.shape)\n",
    "    print(label)"
   ]
  },
  {
   "cell_type": "code",
   "execution_count": null,
   "metadata": {},
   "outputs": [],
   "source": []
  }
 ],
 "metadata": {
  "kernelspec": {
   "display_name": "deepfake_trainer",
   "language": "python",
   "name": "python3"
  },
  "language_info": {
   "codemirror_mode": {
    "name": "ipython",
    "version": 3
   },
   "file_extension": ".py",
   "mimetype": "text/x-python",
   "name": "python",
   "nbconvert_exporter": "python",
   "pygments_lexer": "ipython3",
   "version": "3.10.11"
  }
 },
 "nbformat": 4,
 "nbformat_minor": 2
}
