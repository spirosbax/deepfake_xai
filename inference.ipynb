{
 "cells": [
  {
   "cell_type": "code",
   "execution_count": 3,
   "metadata": {},
   "outputs": [],
   "source": [
    "import torch\n",
    "from torchvision.transforms import v2\n",
    "import sys\n",
    "sys.path.append('src')"
   ]
  },
  {
   "cell_type": "code",
   "execution_count": 13,
   "metadata": {},
   "outputs": [],
   "source": [
    "from src.models.frame import FrameModel\n",
    "\n",
    "# ff_attribution -> 224\n",
    "# swinv2_faceswap -> 256\n",
    "rs_size = 224\n",
    "interpolation = 3\n",
    "inference_transforms = v2.Compose([\n",
    "    v2.ToImage(),\n",
    "    v2.Resize(rs_size, interpolation=interpolation, antialias=False),\n",
    "    v2.ToDtype(torch.float32, scale=True),\n",
    "    v2.Normalize(mean=[0.485, 0.456, 0.406], std=[0.229, 0.224, 0.225])\n",
    "])\n",
    "target_transforms = lambda x: torch.tensor(x, dtype=torch.float32)"
   ]
  },
  {
   "cell_type": "code",
   "execution_count": 14,
   "metadata": {},
   "outputs": [],
   "source": [
    "# ff_attribution or swinv2_faceswap\n",
    "model = FrameModel.load_from_checkpoint(\"./checkpoints/ff_attribution.ckpt\").eval()"
   ]
  },
  {
   "cell_type": "code",
   "execution_count": 15,
   "metadata": {},
   "outputs": [
    {
     "name": "stdout",
     "output_type": "stream",
     "text": [
      "tensor([[0.0613, 0.5350, 0.1486, 0.0287, 0.2265]], device='cuda:1')\n",
      "torch.Size([1, 5])\n"
     ]
    }
   ],
   "source": [
    "# inference on dummy data\n",
    "# (B, C, H, W)\n",
    "test_image = torch.randn(1, 3, 224, 224).to(model.device)\n",
    "test_image = inference_transforms(test_image)\n",
    "\n",
    "with torch.no_grad():\n",
    "    output = model(test_image)\n",
    "    print(output)\n",
    "    print(output.shape)"
   ]
  },
  {
   "cell_type": "code",
   "execution_count": 17,
   "metadata": {},
   "outputs": [
    {
     "name": "stdout",
     "output_type": "stream",
     "text": [
      "tensor([[5.6502e-02, 9.4350e-01, 1.5102e-10, 5.7913e-10, 4.3230e-08]],\n",
      "       device='cuda:1')\n",
      "torch.Size([1, 5])\n",
      "tensor(1.)\n"
     ]
    }
   ],
   "source": [
    "# inference on a dataset\n",
    "\n",
    "import numpy as np\n",
    "from src.data.datasets import DeepfakeDataset\n",
    "ds = DeepfakeDataset(\n",
    "    \"./src/data/csvs/ff_test.csv\",\n",
    "    \"/fssd8/user-data/spirosbax/data/xai_test_data.lmdb\",\n",
    "    transforms=inference_transforms,\n",
    "    target_transforms=target_transforms,\n",
    "    task=\"binary\"\n",
    ")\n",
    "\n",
    "idx = np.random.randint(0, len(ds))\n",
    "with torch.no_grad():\n",
    "    frame, label = ds[idx]\n",
    "    frame = frame.to(model.device)\n",
    "    output = model(frame.unsqueeze(0))\n",
    "    print(output)\n",
    "    print(output.shape)\n",
    "    print(label)"
   ]
  },
  {
   "cell_type": "code",
   "execution_count": null,
   "metadata": {},
   "outputs": [],
   "source": []
  }
 ],
 "metadata": {
  "kernelspec": {
   "display_name": "deepfake_trainer",
   "language": "python",
   "name": "python3"
  },
  "language_info": {
   "codemirror_mode": {
    "name": "ipython",
    "version": 3
   },
   "file_extension": ".py",
   "mimetype": "text/x-python",
   "name": "python",
   "nbconvert_exporter": "python",
   "pygments_lexer": "ipython3",
   "version": "3.10.11"
  }
 },
 "nbformat": 4,
 "nbformat_minor": 2
}
